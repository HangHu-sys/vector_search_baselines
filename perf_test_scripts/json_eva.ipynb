{
 "cells": [
  {
   "cell_type": "code",
   "execution_count": 1,
   "metadata": {},
   "outputs": [],
   "source": [
    "import json\n",
    "\n",
    "def read_json(file_path:str):\n",
    "    with open(file_path, 'r') as file:\n",
    "        return json.load(file)\n",
    "\n",
    "perf_data = read_json('perf_res.json')"
   ]
  },
  {
   "cell_type": "code",
   "execution_count": null,
   "metadata": {},
   "outputs": [
    {
     "ename": "AttributeError",
     "evalue": "'dict' object has no attribute 'shape'",
     "output_type": "error",
     "traceback": [
      "\u001b[0;31m---------------------------------------------------------------------------\u001b[0m",
      "\u001b[0;31mAttributeError\u001b[0m                            Traceback (most recent call last)",
      "Cell \u001b[0;32mIn[4], line 1\u001b[0m\n\u001b[0;32m----> 1\u001b[0m \u001b[43mperf_data\u001b[49m\u001b[38;5;241;43m.\u001b[39;49m\u001b[43mshape\u001b[49m()\n",
      "\u001b[0;31mAttributeError\u001b[0m: 'dict' object has no attribute 'shape'"
     ]
    }
   ],
   "source": [
    "def traverse_select(perf_data:dict):\n",
    "    for key, value in perf_data.items():\n",
    "        if isinstance(value, dict):\n",
    "            print(key, end=\" -> \")\n",
    "            traverse_select(value)\n",
    "        else:\n",
    "            if key == \"qps\":\n",
    "                print(\"[4 contents]\")"
   ]
  },
  {
   "cell_type": "code",
   "execution_count": 2,
   "metadata": {},
   "outputs": [],
   "source": [
    "def read_from_log(log_fname:str):\n",
    "    \"\"\"\n",
    "    Read recall and node_count from the log file\n",
    "    \"\"\"\n",
    "    num_batch = 0\n",
    "    node_count = []\n",
    "    time_batch = []\n",
    "    qps = 0.0\n",
    "    recall = 0.0\n",
    "\n",
    "    with open(log_fname, 'r') as file:\n",
    "        lines = file.readlines()\n",
    "        for idx, line in enumerate(lines):\n",
    "            if \"qsize divided into\" in line:\n",
    "                num_batch = int(line.split(\" \")[3])\n",
    "            elif \"recall\" in line:\n",
    "                recall = float(line.split(\" \")[1])\n",
    "            elif \"node counter and time for each batch\" in line:\n",
    "                for i in range(num_batch):\n",
    "                    values = lines[idx + 1 + i].split(\" \")\n",
    "                    node_count.append(int(values[0]))\n",
    "                    time_batch.append(float(values[1]))\n",
    "            elif \"qps\" in line:\n",
    "                qps = float(line.split(\" \")[1])\n",
    "\n",
    "    return node_count, time_batch, qps, recall\n",
    "\n",
    "node_count, time_batch, qps, recall = read_from_log(\"../hnswlib/build/test.log\")"
   ]
  },
  {
   "cell_type": "code",
   "execution_count": 3,
   "metadata": {},
   "outputs": [
    {
     "data": {
      "text/plain": [
       "18472945"
      ]
     },
     "execution_count": 3,
     "metadata": {},
     "output_type": "execute_result"
    }
   ],
   "source": [
    "sum(node_count)"
   ]
  },
  {
   "cell_type": "code",
   "execution_count": null,
   "metadata": {},
   "outputs": [],
   "source": []
  }
 ],
 "metadata": {
  "kernelspec": {
   "display_name": "Python 3 (ipykernel)",
   "language": "python",
   "name": "python3"
  },
  "language_info": {
   "codemirror_mode": {
    "name": "ipython",
    "version": 3
   },
   "file_extension": ".py",
   "mimetype": "text/x-python",
   "name": "python",
   "nbconvert_exporter": "python",
   "pygments_lexer": "ipython3",
   "version": "3.10.13"
  }
 },
 "nbformat": 4,
 "nbformat_minor": 4
}
