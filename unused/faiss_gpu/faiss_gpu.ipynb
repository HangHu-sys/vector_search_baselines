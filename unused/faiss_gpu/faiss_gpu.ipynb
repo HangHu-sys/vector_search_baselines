{
 "cells": [
  {
   "cell_type": "code",
   "execution_count": 28,
   "metadata": {},
   "outputs": [],
   "source": [
    "import faiss\n",
    "import numpy as np\n",
    "import time"
   ]
  },
  {
   "cell_type": "code",
   "execution_count": 32,
   "metadata": {},
   "outputs": [
    {
     "name": "stdout",
     "output_type": "stream",
     "text": [
      "data_load:  (1000000, 128)\n",
      "query_load:  (10000, 128)\n",
      "gt_load:  (10000, 100)\n"
     ]
    }
   ],
   "source": [
    "def load_data(filename):\n",
    "    with open(filename, \"rb\") as file:\n",
    "        dim_bytes = file.read(4)  # Read 4 bytes for dimension\n",
    "        dim = int.from_bytes(dim_bytes, byteorder='little')  # Convert bytes to integer for dimension\n",
    "\n",
    "        file.seek(0, 2)  # Move the file pointer to the end\n",
    "        fsize = file.tell()  # Get the file size\n",
    "        num = fsize // ((dim + 1) * 4)  # Calculate the number of data points\n",
    "\n",
    "        file.seek(0)  # Move the file pointer back to the beginning\n",
    "        data = np.empty((num, dim), dtype=np.float32)  # Create an empty numpy array to store data\n",
    "\n",
    "        for i in range(num):\n",
    "            file.seek(4, 1)  # Move the file pointer forward by 4 bytes to skip index\n",
    "            data[i] = np.fromfile(file, dtype=np.float32, count=dim)  # Read dim number of float values\n",
    "\n",
    "    return data, num, dim\n",
    "\n",
    "def ivecs_read(fname):\n",
    "    a = np.fromfile(fname, dtype='int32')\n",
    "    d = a[0]\n",
    "    # Wenqi: Format of ground truth (for 10000 query vectors):\n",
    "    #   1000(topK), [1000 ids]\n",
    "    #   1000(topK), [1000 ids]\n",
    "    #        ...     ...\n",
    "    #   1000(topK), [1000 ids]\n",
    "    # 10000 rows in total, 10000 * 1001 elements, 10000 * 1001 * 4 bytes\n",
    "    return a.reshape(-1, d + 1)[:, 1:].copy()\n",
    "\n",
    "# Change to the path of your data\n",
    "data_load, points_num, dim = load_data(\"./sift/sift_base.fvecs\")\n",
    "query_load, query_num, query_dim = load_data(\"./sift/sift_query.fvecs\")\n",
    "assert(dim == query_dim)\n",
    "\n",
    "gt_load = ivecs_read(\"./sift/sift_groundtruth.ivecs\")\n",
    "\n",
    "print(\"data_load: \", np.shape(data_load))\n",
    "print(\"query_load: \", np.shape(query_load))\n",
    "print(\"gt_load: \", np.shape(gt_load))"
   ]
  },
  {
   "cell_type": "code",
   "execution_count": 34,
   "metadata": {},
   "outputs": [],
   "source": [
    "# res = faiss.StandardGpuResources()  # use a single GPU\n",
    "\n",
    "cpu_index = faiss.IndexFlatL2(dim)\n",
    "# make it into a gpu index\n",
    "gpu_index = faiss.index_cpu_to_all_gpus(cpu_index)"
   ]
  },
  {
   "cell_type": "code",
   "execution_count": 35,
   "metadata": {},
   "outputs": [
    {
     "name": "stdout",
     "output_type": "stream",
     "text": [
      "1000000\n",
      "33.82398530095816\n"
     ]
    }
   ],
   "source": [
    "gpu_index.add(data_load)         # add vectors to the index\n",
    "print(gpu_index.ntotal)\n",
    "\n",
    "k = 10                          # we want to see 4 nearest neighbors\n",
    "total_time = 0.0\n",
    "for i in range(query_num):\n",
    "    start_time = time.perf_counter()\n",
    "    D, I = gpu_index.search(query_load[i:i+1], k)  # actual search\n",
    "    end_time = time.perf_counter()\n",
    "    total_time = total_time + end_time - start_time\n",
    "\n",
    "print(total_time)"
   ]
  },
  {
   "cell_type": "code",
   "execution_count": null,
   "metadata": {},
   "outputs": [
    {
     "data": {
      "text/plain": [
       "3.3823985300958155"
      ]
     },
     "execution_count": 38,
     "metadata": {},
     "output_type": "execute_result"
    }
   ],
   "source": [
    "1e3 * total_time / query_num"
   ]
  },
  {
   "cell_type": "code",
   "execution_count": null,
   "metadata": {},
   "outputs": [],
   "source": []
  },
  {
   "cell_type": "code",
   "execution_count": null,
   "metadata": {},
   "outputs": [],
   "source": []
  }
 ],
 "metadata": {
  "kernelspec": {
   "display_name": "Python 3 (ipykernel)",
   "language": "python",
   "name": "python3"
  },
  "language_info": {
   "codemirror_mode": {
    "name": "ipython",
    "version": 3
   },
   "file_extension": ".py",
   "mimetype": "text/x-python",
   "name": "python",
   "nbconvert_exporter": "python",
   "pygments_lexer": "ipython3",
   "version": "3.10.13"
  }
 },
 "nbformat": 4,
 "nbformat_minor": 4
}
